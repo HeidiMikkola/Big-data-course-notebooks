{
 "cells": [
  {
   "cell_type": "code",
   "execution_count": 4,
   "metadata": {},
   "outputs": [
    {
     "name": "stdout",
     "output_type": "stream",
     "text": [
      "Writing wordcounts.py\n"
     ]
    }
   ],
   "source": [
    "%%writefile wordcounts.py\n",
    "\n",
    "from mrjob.job import MRJob \n",
    "import re\n",
    "\n",
    "WORD_RE = re.compile(r\"[\\w']+\")\n",
    "\n",
    "class WordCounts(MRJob):\n",
    "    def mapper(self, _, line):\n",
    "        for word in WORD_RE.findall(line):\n",
    "            yield word.lower(), 1\n",
    "        \n",
    "    \n",
    "    def reducer(self, key, values):\n",
    "        yield key, sum(values)\n",
    "\n",
    "if __name__ == \"__main__\":\n",
    "    WordCounts.run()"
   ]
  },
  {
   "cell_type": "code",
   "execution_count": 5,
   "metadata": {},
   "outputs": [
    {
     "name": "stderr",
     "output_type": "stream",
     "text": [
      "No configs found; falling back on auto-configuration\n",
      "No configs specified for inline runner\n",
      "Running step 1 of 1...\n",
      "Creating temp directory C:\\Users\\Heidi\\AppData\\Local\\Temp\\wordcounts.Heidi.20181205.163306.877234\n",
      "job output is in C:\\Users\\Heidi\\AppData\\Local\\Temp\\wordcounts.Heidi.20181205.163306.877234\\output\n",
      "Streaming final output from C:\\Users\\Heidi\\AppData\\Local\\Temp\\wordcounts.Heidi.20181205.163306.877234\\output...\n"
     ]
    },
    {
     "name": "stdout",
     "output_type": "stream",
     "text": [
      "\"1\"\t1\n",
      "\"_\"\t1\n",
      "\"__main__\"\t1\n",
      "\"__name__\"\t1\n",
      "\"class\"\t1\n",
      "\"compile\"\t1\n",
      "\"def\"\t2\n",
      "\"findall\"\t1\n",
      "\"for\"\t1\n",
      "\"from\"\t1\n",
      "\"if\"\t1\n",
      "\"import\"\t2\n",
      "\"in\"\t1\n",
      "\"job\"\t1\n",
      "\"key\"\t2\n",
      "\"line\"\t2\n",
      "\"lower\"\t1\n",
      "\"mapper\"\t1\n",
      "\"mrjob\"\t3\n",
      "\"r\"\t1\n",
      "\"re\"\t2\n",
      "\"reducer\"\t1\n",
      "\"run\"\t1\n",
      "\"self\"\t2\n",
      "\"sum\"\t1\n",
      "\"values\"\t2\n",
      "\"w'\"\t1\n",
      "\"word\"\t2\n",
      "\"word_re\"\t2\n",
      "\"wordcounts\"\t2\n",
      "\"yield\"\t2\n"
     ]
    },
    {
     "name": "stderr",
     "output_type": "stream",
     "text": [
      "Removing temp directory C:\\Users\\Heidi\\AppData\\Local\\Temp\\wordcounts.Heidi.20181205.163306.877234...\n"
     ]
    }
   ],
   "source": [
    "run wordcounts.py wordcounts.py\n"
   ]
  },
  {
   "cell_type": "code",
   "execution_count": null,
   "metadata": {},
   "outputs": [],
   "source": []
  }
 ],
 "metadata": {
  "kernelspec": {
   "display_name": "Python 3",
   "language": "python",
   "name": "python3"
  },
  "language_info": {
   "codemirror_mode": {
    "name": "ipython",
    "version": 3
   },
   "file_extension": ".py",
   "mimetype": "text/x-python",
   "name": "python",
   "nbconvert_exporter": "python",
   "pygments_lexer": "ipython3",
   "version": "3.7.0"
  }
 },
 "nbformat": 4,
 "nbformat_minor": 2
}
